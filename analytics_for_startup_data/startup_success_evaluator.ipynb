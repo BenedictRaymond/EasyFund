{
 "cells": [
  {
   "cell_type": "code",
   "execution_count": 3,
   "metadata": {},
   "outputs": [],
   "source": [
    "import numpy as np \n",
    "import pandas as pd \n",
    "import tensorflow as tf\n"
   ]
  },
  {
   "cell_type": "code",
   "execution_count": 4,
   "metadata": {},
   "outputs": [
    {
     "name": "stdout",
     "output_type": "stream",
     "text": [
      "<class 'pandas.core.frame.DataFrame'>\n",
      "RangeIndex: 54294 entries, 0 to 54293\n",
      "Data columns (total 39 columns):\n",
      " #   Column                Non-Null Count  Dtype  \n",
      "---  ------                --------------  -----  \n",
      " 0   permalink             49438 non-null  object \n",
      " 1   name                  49437 non-null  object \n",
      " 2   homepage_url          45989 non-null  object \n",
      " 3   category_list         45477 non-null  object \n",
      " 4    market               45470 non-null  object \n",
      " 5    funding_total_usd    49438 non-null  object \n",
      " 6   status                48124 non-null  object \n",
      " 7   country_code          44165 non-null  object \n",
      " 8   state_code            30161 non-null  object \n",
      " 9   region                44165 non-null  object \n",
      " 10  city                  43322 non-null  object \n",
      " 11  funding_rounds        49438 non-null  float64\n",
      " 12  founded_at            38554 non-null  object \n",
      " 13  founded_month         38482 non-null  object \n",
      " 14  founded_quarter       38482 non-null  object \n",
      " 15  founded_year          38482 non-null  float64\n",
      " 16  first_funding_at      49438 non-null  object \n",
      " 17  last_funding_at       49438 non-null  object \n",
      " 18  seed                  49438 non-null  float64\n",
      " 19  venture               49438 non-null  float64\n",
      " 20  equity_crowdfunding   49438 non-null  float64\n",
      " 21  undisclosed           49438 non-null  float64\n",
      " 22  convertible_note      49438 non-null  float64\n",
      " 23  debt_financing        49438 non-null  float64\n",
      " 24  angel                 49438 non-null  float64\n",
      " 25  grant                 49438 non-null  float64\n",
      " 26  private_equity        49438 non-null  float64\n",
      " 27  post_ipo_equity       49438 non-null  float64\n",
      " 28  post_ipo_debt         49438 non-null  float64\n",
      " 29  secondary_market      49438 non-null  float64\n",
      " 30  product_crowdfunding  49438 non-null  float64\n",
      " 31  round_A               49438 non-null  float64\n",
      " 32  round_B               49438 non-null  float64\n",
      " 33  round_C               49438 non-null  float64\n",
      " 34  round_D               49438 non-null  float64\n",
      " 35  round_E               49438 non-null  float64\n",
      " 36  round_F               49438 non-null  float64\n",
      " 37  round_G               49438 non-null  float64\n",
      " 38  round_H               49438 non-null  float64\n",
      "dtypes: float64(23), object(16)\n",
      "memory usage: 16.2+ MB\n"
     ]
    }
   ],
   "source": [
    "df = pd.read_csv(\"investments_VC.csv\", encoding=\"ISO-8859-1\") \n",
    "df.head()\n",
    "df.info()\n",
    "\n"
   ]
  },
  {
   "cell_type": "code",
   "execution_count": 5,
   "metadata": {},
   "outputs": [
    {
     "name": "stdout",
     "output_type": "stream",
     "text": [
      "21840\n"
     ]
    }
   ],
   "source": [
    "df=df.dropna()\n",
    "print(len(df))"
   ]
  },
  {
   "cell_type": "code",
   "execution_count": 6,
   "metadata": {},
   "outputs": [],
   "source": [
    "df[' funding_total_usd '] = df[' funding_total_usd '].replace({',': '', ' ': ''}, regex=True)\n",
    "df[' funding_total_usd '] = df[' funding_total_usd '].apply(lambda x: x if x != '-' else '0')\n",
    "df[' funding_total_usd '] = pd.to_numeric(df[' funding_total_usd '], errors='coerce')\n",
    "df[' funding_total_usd '] = df[' funding_total_usd '].astype(int)"
   ]
  },
  {
   "cell_type": "code",
   "execution_count": 7,
   "metadata": {},
   "outputs": [
    {
     "data": {
      "text/plain": [
       "Index(['permalink', 'name', 'homepage_url', 'category_list', ' market ',\n",
       "       ' funding_total_usd ', 'status', 'country_code', 'state_code', 'region',\n",
       "       'city', 'funding_rounds', 'founded_at', 'founded_month',\n",
       "       'founded_quarter', 'founded_year', 'first_funding_at',\n",
       "       'last_funding_at', 'seed', 'venture', 'equity_crowdfunding',\n",
       "       'undisclosed', 'convertible_note', 'debt_financing', 'angel', 'grant',\n",
       "       'private_equity', 'post_ipo_equity', 'post_ipo_debt',\n",
       "       'secondary_market', 'product_crowdfunding', 'round_A', 'round_B',\n",
       "       'round_C', 'round_D', 'round_E', 'round_F', 'round_G', 'round_H'],\n",
       "      dtype='object')"
      ]
     },
     "execution_count": 7,
     "metadata": {},
     "output_type": "execute_result"
    }
   ],
   "source": [
    "df.columns"
   ]
  },
  {
   "cell_type": "code",
   "execution_count": 8,
   "metadata": {},
   "outputs": [
    {
     "data": {
      "text/plain": [
       "Index(['permalink', 'name', 'homepage_url', 'category_list', ' market ',\n",
       "       'status', 'country_code', 'state_code', 'region', 'city', 'founded_at',\n",
       "       'founded_month', 'founded_quarter', 'first_funding_at',\n",
       "       'last_funding_at'],\n",
       "      dtype='object')"
      ]
     },
     "execution_count": 8,
     "metadata": {},
     "output_type": "execute_result"
    }
   ],
   "source": [
    "df.select_dtypes('object').columns"
   ]
  },
  {
   "cell_type": "code",
   "execution_count": 9,
   "metadata": {},
   "outputs": [
    {
     "data": {
      "text/plain": [
       "permalink               0\n",
       "name                    0\n",
       "homepage_url            0\n",
       "category_list           0\n",
       " market                 0\n",
       " funding_total_usd      0\n",
       "status                  0\n",
       "country_code            0\n",
       "state_code              0\n",
       "region                  0\n",
       "city                    0\n",
       "funding_rounds          0\n",
       "founded_at              0\n",
       "founded_month           0\n",
       "founded_quarter         0\n",
       "founded_year            0\n",
       "first_funding_at        0\n",
       "last_funding_at         0\n",
       "seed                    0\n",
       "venture                 0\n",
       "equity_crowdfunding     0\n",
       "undisclosed             0\n",
       "convertible_note        0\n",
       "debt_financing          0\n",
       "angel                   0\n",
       "grant                   0\n",
       "private_equity          0\n",
       "post_ipo_equity         0\n",
       "post_ipo_debt           0\n",
       "secondary_market        0\n",
       "product_crowdfunding    0\n",
       "round_A                 0\n",
       "round_B                 0\n",
       "round_C                 0\n",
       "round_D                 0\n",
       "round_E                 0\n",
       "round_F                 0\n",
       "round_G                 0\n",
       "round_H                 0\n",
       "dtype: int64"
      ]
     },
     "execution_count": 9,
     "metadata": {},
     "output_type": "execute_result"
    }
   ],
   "source": [
    "df.isnull().sum()"
   ]
  },
  {
   "cell_type": "code",
   "execution_count": null,
   "metadata": {},
   "outputs": [],
   "source": [
    "df['first_funded_at'] = pd.to_datetime(df['first_funded_at'])\n",
    "df['last_funded_at'] = pd.to_datetime(df['last_funded_at'])\n",
    "df['funded_duration'] = (df['last_funded_at'] - df['first_funded_at']).dt.days / 365.25\n",
    "df['years_since_funded'] = 2025 - df['first_funded_at'].dt.year"
   ]
  },
  {
   "cell_type": "code",
   "execution_count": 341,
   "metadata": {},
   "outputs": [],
   "source": [
    "df.drop(columns=[\"permalink\", \"homepage_url\",'country_code','state_code','region','city','founded_at', 'founded_month',\n",
    "'founded_quarter','first_funding_at','last_funding_at','founded_year'], inplace=True, errors=\"ignore\")\n"
   ]
  },
  {
   "cell_type": "code",
   "execution_count": 342,
   "metadata": {},
   "outputs": [
    {
     "data": {
      "text/plain": [
       "status\n",
       "operating    18448\n",
       "acquired      2202\n",
       "closed        1190\n",
       "Name: count, dtype: int64"
      ]
     },
     "execution_count": 342,
     "metadata": {},
     "output_type": "execute_result"
    }
   ],
   "source": [
    "df['status'].value_counts()"
   ]
  },
  {
   "cell_type": "code",
   "execution_count": 344,
   "metadata": {},
   "outputs": [
    {
     "data": {
      "text/plain": [
       "array(['acquired', 'closed', 'operating'], dtype=object)"
      ]
     },
     "execution_count": 344,
     "metadata": {},
     "output_type": "execute_result"
    }
   ],
   "source": [
    "np.unique(df['status'])"
   ]
  },
  {
   "cell_type": "code",
   "execution_count": 345,
   "metadata": {},
   "outputs": [
    {
     "data": {
      "text/plain": [
       "status\n",
       "1    20650\n",
       "0     1190\n",
       "Name: count, dtype: int64"
      ]
     },
     "execution_count": 345,
     "metadata": {},
     "output_type": "execute_result"
    }
   ],
   "source": [
    "df[\"status\"] = df[\"status\"].apply(lambda x: 1 if x in ['acquired','operating'] else 0)\n",
    "df = pd.get_dummies(df, columns=[\" market \", \"category_list\"], drop_first=True)\n",
    "df['status'].value_counts()"
   ]
  },
  {
   "cell_type": "code",
   "execution_count": 346,
   "metadata": {},
   "outputs": [
    {
     "name": "stdout",
     "output_type": "stream",
     "text": [
      "status\n",
      "0    1190\n",
      "1    1190\n",
      "Name: count, dtype: int64\n"
     ]
    }
   ],
   "source": [
    "from sklearn.utils import resample\n",
    "df_majority = df[df['status'] == 1]  \n",
    "df_minority = df[df['status'] == 0]  \n",
    "\n",
    "df_majority_downsampled = resample(df_majority, \n",
    "                                replace=False, \n",
    "                                n_samples=len(df_minority),\n",
    "                                random_state=42) \n",
    "df_balanced = pd.concat([df_majority_downsampled, df_minority])\n",
    "df_balanced = df_balanced.sample(frac=1, random_state=42).reset_index(drop=True)\n",
    "print(df_balanced['status'].value_counts())\n",
    "df=df_balanced"
   ]
  },
  {
   "cell_type": "code",
   "execution_count": 347,
   "metadata": {},
   "outputs": [
    {
     "data": {
      "text/plain": [
       "Index(['name', ' funding_total_usd ', 'status', 'funding_rounds',\n",
       "       'founded_year', 'seed', 'venture', 'equity_crowdfunding', 'undisclosed',\n",
       "       'convertible_note',\n",
       "       ...\n",
       "       'category_list_|iPhone|Wireless|Android|Maps|Consumer Electronics|Gps|Reviews and Recommendations|Journalism|Video Streaming|Content|Parenting|Audio|Location Based Services|Social Media|Mobile|',\n",
       "       'category_list_|iPhone|Wireless|Audio|Email|SMS|Twitter Applications|Facebook Applications|Social Network Media|Software|Databases|Mobile|',\n",
       "       'category_list_|iPhone|iOS|Cloud Data Services|Startups|Technology|Mobile|',\n",
       "       'category_list_|iPhone|iPod Touch|Crowdsourcing|Local|Mobile|',\n",
       "       'category_list_|iPhone|iPod Touch|Mobile|Marketplaces|Recycling|E-Commerce|Hardware + Software|',\n",
       "       'category_list_|iPod Touch|iPad|iPhone|Android|App Marketing|App Discovery|Mobile|',\n",
       "       'category_list_|iPod Touch|iPad|iPhone|Wireless|Hardware + Software|',\n",
       "       'category_list_|iPod Touch|iPhone|iPad|Entertainment|Peer-to-Peer|Consumer Electronics|Online Shopping|Video Games|Hardware|Marketplaces|Media|Retail|E-Commerce|',\n",
       "       'category_list_|mHealth|Enterprise Software|',\n",
       "       'category_list_|mHealth|Health Care|'],\n",
       "      dtype='object', length=9670)"
      ]
     },
     "execution_count": 347,
     "metadata": {},
     "output_type": "execute_result"
    }
   ],
   "source": [
    "df.columns"
   ]
  },
  {
   "cell_type": "code",
   "execution_count": 348,
   "metadata": {},
   "outputs": [
    {
     "data": {
      "text/html": [
       "<div>\n",
       "<style scoped>\n",
       "    .dataframe tbody tr th:only-of-type {\n",
       "        vertical-align: middle;\n",
       "    }\n",
       "\n",
       "    .dataframe tbody tr th {\n",
       "        vertical-align: top;\n",
       "    }\n",
       "\n",
       "    .dataframe thead th {\n",
       "        text-align: right;\n",
       "    }\n",
       "</style>\n",
       "<table border=\"1\" class=\"dataframe\">\n",
       "  <thead>\n",
       "    <tr style=\"text-align: right;\">\n",
       "      <th></th>\n",
       "      <th>name</th>\n",
       "      <th>funding_total_usd</th>\n",
       "      <th>status</th>\n",
       "      <th>funding_rounds</th>\n",
       "      <th>founded_year</th>\n",
       "      <th>seed</th>\n",
       "      <th>venture</th>\n",
       "      <th>equity_crowdfunding</th>\n",
       "      <th>undisclosed</th>\n",
       "      <th>convertible_note</th>\n",
       "      <th>...</th>\n",
       "      <th>category_list_|iPhone|Wireless|Android|Maps|Consumer Electronics|Gps|Reviews and Recommendations|Journalism|Video Streaming|Content|Parenting|Audio|Location Based Services|Social Media|Mobile|</th>\n",
       "      <th>category_list_|iPhone|Wireless|Audio|Email|SMS|Twitter Applications|Facebook Applications|Social Network Media|Software|Databases|Mobile|</th>\n",
       "      <th>category_list_|iPhone|iOS|Cloud Data Services|Startups|Technology|Mobile|</th>\n",
       "      <th>category_list_|iPhone|iPod Touch|Crowdsourcing|Local|Mobile|</th>\n",
       "      <th>category_list_|iPhone|iPod Touch|Mobile|Marketplaces|Recycling|E-Commerce|Hardware + Software|</th>\n",
       "      <th>category_list_|iPod Touch|iPad|iPhone|Android|App Marketing|App Discovery|Mobile|</th>\n",
       "      <th>category_list_|iPod Touch|iPad|iPhone|Wireless|Hardware + Software|</th>\n",
       "      <th>category_list_|iPod Touch|iPhone|iPad|Entertainment|Peer-to-Peer|Consumer Electronics|Online Shopping|Video Games|Hardware|Marketplaces|Media|Retail|E-Commerce|</th>\n",
       "      <th>category_list_|mHealth|Enterprise Software|</th>\n",
       "      <th>category_list_|mHealth|Health Care|</th>\n",
       "    </tr>\n",
       "  </thead>\n",
       "  <tbody>\n",
       "    <tr>\n",
       "      <th>0</th>\n",
       "      <td>CrowdSling</td>\n",
       "      <td>40000</td>\n",
       "      <td>0</td>\n",
       "      <td>1.0</td>\n",
       "      <td>2011.0</td>\n",
       "      <td>40000.0</td>\n",
       "      <td>0.0</td>\n",
       "      <td>0.0</td>\n",
       "      <td>0.0</td>\n",
       "      <td>0.0</td>\n",
       "      <td>...</td>\n",
       "      <td>False</td>\n",
       "      <td>False</td>\n",
       "      <td>False</td>\n",
       "      <td>False</td>\n",
       "      <td>False</td>\n",
       "      <td>False</td>\n",
       "      <td>False</td>\n",
       "      <td>False</td>\n",
       "      <td>False</td>\n",
       "      <td>False</td>\n",
       "    </tr>\n",
       "    <tr>\n",
       "      <th>1</th>\n",
       "      <td>Supercool School</td>\n",
       "      <td>100000</td>\n",
       "      <td>0</td>\n",
       "      <td>1.0</td>\n",
       "      <td>2009.0</td>\n",
       "      <td>0.0</td>\n",
       "      <td>0.0</td>\n",
       "      <td>0.0</td>\n",
       "      <td>0.0</td>\n",
       "      <td>0.0</td>\n",
       "      <td>...</td>\n",
       "      <td>False</td>\n",
       "      <td>False</td>\n",
       "      <td>False</td>\n",
       "      <td>False</td>\n",
       "      <td>False</td>\n",
       "      <td>False</td>\n",
       "      <td>False</td>\n",
       "      <td>False</td>\n",
       "      <td>False</td>\n",
       "      <td>False</td>\n",
       "    </tr>\n",
       "    <tr>\n",
       "      <th>2</th>\n",
       "      <td>RampedMedia</td>\n",
       "      <td>0</td>\n",
       "      <td>0</td>\n",
       "      <td>1.0</td>\n",
       "      <td>2006.0</td>\n",
       "      <td>0.0</td>\n",
       "      <td>0.0</td>\n",
       "      <td>0.0</td>\n",
       "      <td>0.0</td>\n",
       "      <td>0.0</td>\n",
       "      <td>...</td>\n",
       "      <td>False</td>\n",
       "      <td>False</td>\n",
       "      <td>False</td>\n",
       "      <td>False</td>\n",
       "      <td>False</td>\n",
       "      <td>False</td>\n",
       "      <td>False</td>\n",
       "      <td>False</td>\n",
       "      <td>False</td>\n",
       "      <td>False</td>\n",
       "    </tr>\n",
       "    <tr>\n",
       "      <th>3</th>\n",
       "      <td>Quick Hit</td>\n",
       "      <td>18950000</td>\n",
       "      <td>0</td>\n",
       "      <td>5.0</td>\n",
       "      <td>2008.0</td>\n",
       "      <td>0.0</td>\n",
       "      <td>15950000.0</td>\n",
       "      <td>0.0</td>\n",
       "      <td>0.0</td>\n",
       "      <td>0.0</td>\n",
       "      <td>...</td>\n",
       "      <td>False</td>\n",
       "      <td>False</td>\n",
       "      <td>False</td>\n",
       "      <td>False</td>\n",
       "      <td>False</td>\n",
       "      <td>False</td>\n",
       "      <td>False</td>\n",
       "      <td>False</td>\n",
       "      <td>False</td>\n",
       "      <td>False</td>\n",
       "    </tr>\n",
       "    <tr>\n",
       "      <th>4</th>\n",
       "      <td>Boston Out-Patient Surigal Suites</td>\n",
       "      <td>160886</td>\n",
       "      <td>1</td>\n",
       "      <td>1.0</td>\n",
       "      <td>2003.0</td>\n",
       "      <td>0.0</td>\n",
       "      <td>160886.0</td>\n",
       "      <td>0.0</td>\n",
       "      <td>0.0</td>\n",
       "      <td>0.0</td>\n",
       "      <td>...</td>\n",
       "      <td>False</td>\n",
       "      <td>False</td>\n",
       "      <td>False</td>\n",
       "      <td>False</td>\n",
       "      <td>False</td>\n",
       "      <td>False</td>\n",
       "      <td>False</td>\n",
       "      <td>False</td>\n",
       "      <td>False</td>\n",
       "      <td>False</td>\n",
       "    </tr>\n",
       "  </tbody>\n",
       "</table>\n",
       "<p>5 rows × 9670 columns</p>\n",
       "</div>"
      ],
      "text/plain": [
       "                                name   funding_total_usd   status  \\\n",
       "0                         CrowdSling                40000       0   \n",
       "1                   Supercool School               100000       0   \n",
       "2                        RampedMedia                    0       0   \n",
       "3                          Quick Hit             18950000       0   \n",
       "4  Boston Out-Patient Surigal Suites               160886       1   \n",
       "\n",
       "   funding_rounds  founded_year     seed     venture  equity_crowdfunding  \\\n",
       "0             1.0        2011.0  40000.0         0.0                  0.0   \n",
       "1             1.0        2009.0      0.0         0.0                  0.0   \n",
       "2             1.0        2006.0      0.0         0.0                  0.0   \n",
       "3             5.0        2008.0      0.0  15950000.0                  0.0   \n",
       "4             1.0        2003.0      0.0    160886.0                  0.0   \n",
       "\n",
       "   undisclosed  convertible_note  ...  \\\n",
       "0          0.0               0.0  ...   \n",
       "1          0.0               0.0  ...   \n",
       "2          0.0               0.0  ...   \n",
       "3          0.0               0.0  ...   \n",
       "4          0.0               0.0  ...   \n",
       "\n",
       "   category_list_|iPhone|Wireless|Android|Maps|Consumer Electronics|Gps|Reviews and Recommendations|Journalism|Video Streaming|Content|Parenting|Audio|Location Based Services|Social Media|Mobile|  \\\n",
       "0                                              False                                                                                                                                                  \n",
       "1                                              False                                                                                                                                                  \n",
       "2                                              False                                                                                                                                                  \n",
       "3                                              False                                                                                                                                                  \n",
       "4                                              False                                                                                                                                                  \n",
       "\n",
       "   category_list_|iPhone|Wireless|Audio|Email|SMS|Twitter Applications|Facebook Applications|Social Network Media|Software|Databases|Mobile|  \\\n",
       "0                                              False                                                                                           \n",
       "1                                              False                                                                                           \n",
       "2                                              False                                                                                           \n",
       "3                                              False                                                                                           \n",
       "4                                              False                                                                                           \n",
       "\n",
       "   category_list_|iPhone|iOS|Cloud Data Services|Startups|Technology|Mobile|  \\\n",
       "0                                              False                           \n",
       "1                                              False                           \n",
       "2                                              False                           \n",
       "3                                              False                           \n",
       "4                                              False                           \n",
       "\n",
       "   category_list_|iPhone|iPod Touch|Crowdsourcing|Local|Mobile|  \\\n",
       "0                                              False              \n",
       "1                                              False              \n",
       "2                                              False              \n",
       "3                                              False              \n",
       "4                                              False              \n",
       "\n",
       "   category_list_|iPhone|iPod Touch|Mobile|Marketplaces|Recycling|E-Commerce|Hardware + Software|  \\\n",
       "0                                              False                                                \n",
       "1                                              False                                                \n",
       "2                                              False                                                \n",
       "3                                              False                                                \n",
       "4                                              False                                                \n",
       "\n",
       "   category_list_|iPod Touch|iPad|iPhone|Android|App Marketing|App Discovery|Mobile|  \\\n",
       "0                                              False                                   \n",
       "1                                              False                                   \n",
       "2                                              False                                   \n",
       "3                                              False                                   \n",
       "4                                              False                                   \n",
       "\n",
       "   category_list_|iPod Touch|iPad|iPhone|Wireless|Hardware + Software|  \\\n",
       "0                                              False                     \n",
       "1                                              False                     \n",
       "2                                              False                     \n",
       "3                                              False                     \n",
       "4                                              False                     \n",
       "\n",
       "   category_list_|iPod Touch|iPhone|iPad|Entertainment|Peer-to-Peer|Consumer Electronics|Online Shopping|Video Games|Hardware|Marketplaces|Media|Retail|E-Commerce|  \\\n",
       "0                                              False                                                                                                                  \n",
       "1                                              False                                                                                                                  \n",
       "2                                              False                                                                                                                  \n",
       "3                                              False                                                                                                                  \n",
       "4                                              False                                                                                                                  \n",
       "\n",
       "   category_list_|mHealth|Enterprise Software|  \\\n",
       "0                                        False   \n",
       "1                                        False   \n",
       "2                                        False   \n",
       "3                                        False   \n",
       "4                                        False   \n",
       "\n",
       "   category_list_|mHealth|Health Care|  \n",
       "0                                False  \n",
       "1                                False  \n",
       "2                                False  \n",
       "3                                False  \n",
       "4                                False  \n",
       "\n",
       "[5 rows x 9670 columns]"
      ]
     },
     "execution_count": 348,
     "metadata": {},
     "output_type": "execute_result"
    }
   ],
   "source": [
    "df.head()"
   ]
  },
  {
   "cell_type": "code",
   "execution_count": 349,
   "metadata": {},
   "outputs": [
    {
     "data": {
      "text/plain": [
       "Index(['name'], dtype='object')"
      ]
     },
     "execution_count": 349,
     "metadata": {},
     "output_type": "execute_result"
    }
   ],
   "source": [
    "df.select_dtypes('object').columns"
   ]
  },
  {
   "cell_type": "code",
   "execution_count": 350,
   "metadata": {},
   "outputs": [],
   "source": [
    "df.drop(columns=[\"name\"],inplace=True)"
   ]
  },
  {
   "cell_type": "code",
   "execution_count": 351,
   "metadata": {},
   "outputs": [
    {
     "data": {
      "text/html": [
       "<div>\n",
       "<style scoped>\n",
       "    .dataframe tbody tr th:only-of-type {\n",
       "        vertical-align: middle;\n",
       "    }\n",
       "\n",
       "    .dataframe tbody tr th {\n",
       "        vertical-align: top;\n",
       "    }\n",
       "\n",
       "    .dataframe thead th {\n",
       "        text-align: right;\n",
       "    }\n",
       "</style>\n",
       "<table border=\"1\" class=\"dataframe\">\n",
       "  <thead>\n",
       "    <tr style=\"text-align: right;\">\n",
       "      <th></th>\n",
       "      <th>funding_total_usd</th>\n",
       "      <th>status</th>\n",
       "      <th>funding_rounds</th>\n",
       "      <th>founded_year</th>\n",
       "      <th>seed</th>\n",
       "      <th>venture</th>\n",
       "      <th>equity_crowdfunding</th>\n",
       "      <th>undisclosed</th>\n",
       "      <th>convertible_note</th>\n",
       "      <th>debt_financing</th>\n",
       "      <th>...</th>\n",
       "      <th>category_list_|iPhone|Wireless|Android|Maps|Consumer Electronics|Gps|Reviews and Recommendations|Journalism|Video Streaming|Content|Parenting|Audio|Location Based Services|Social Media|Mobile|</th>\n",
       "      <th>category_list_|iPhone|Wireless|Audio|Email|SMS|Twitter Applications|Facebook Applications|Social Network Media|Software|Databases|Mobile|</th>\n",
       "      <th>category_list_|iPhone|iOS|Cloud Data Services|Startups|Technology|Mobile|</th>\n",
       "      <th>category_list_|iPhone|iPod Touch|Crowdsourcing|Local|Mobile|</th>\n",
       "      <th>category_list_|iPhone|iPod Touch|Mobile|Marketplaces|Recycling|E-Commerce|Hardware + Software|</th>\n",
       "      <th>category_list_|iPod Touch|iPad|iPhone|Android|App Marketing|App Discovery|Mobile|</th>\n",
       "      <th>category_list_|iPod Touch|iPad|iPhone|Wireless|Hardware + Software|</th>\n",
       "      <th>category_list_|iPod Touch|iPhone|iPad|Entertainment|Peer-to-Peer|Consumer Electronics|Online Shopping|Video Games|Hardware|Marketplaces|Media|Retail|E-Commerce|</th>\n",
       "      <th>category_list_|mHealth|Enterprise Software|</th>\n",
       "      <th>category_list_|mHealth|Health Care|</th>\n",
       "    </tr>\n",
       "  </thead>\n",
       "  <tbody>\n",
       "    <tr>\n",
       "      <th>0</th>\n",
       "      <td>40000</td>\n",
       "      <td>0</td>\n",
       "      <td>1.0</td>\n",
       "      <td>2011.0</td>\n",
       "      <td>40000.0</td>\n",
       "      <td>0.0</td>\n",
       "      <td>0.0</td>\n",
       "      <td>0.0</td>\n",
       "      <td>0.0</td>\n",
       "      <td>0.0</td>\n",
       "      <td>...</td>\n",
       "      <td>False</td>\n",
       "      <td>False</td>\n",
       "      <td>False</td>\n",
       "      <td>False</td>\n",
       "      <td>False</td>\n",
       "      <td>False</td>\n",
       "      <td>False</td>\n",
       "      <td>False</td>\n",
       "      <td>False</td>\n",
       "      <td>False</td>\n",
       "    </tr>\n",
       "    <tr>\n",
       "      <th>1</th>\n",
       "      <td>100000</td>\n",
       "      <td>0</td>\n",
       "      <td>1.0</td>\n",
       "      <td>2009.0</td>\n",
       "      <td>0.0</td>\n",
       "      <td>0.0</td>\n",
       "      <td>0.0</td>\n",
       "      <td>0.0</td>\n",
       "      <td>0.0</td>\n",
       "      <td>0.0</td>\n",
       "      <td>...</td>\n",
       "      <td>False</td>\n",
       "      <td>False</td>\n",
       "      <td>False</td>\n",
       "      <td>False</td>\n",
       "      <td>False</td>\n",
       "      <td>False</td>\n",
       "      <td>False</td>\n",
       "      <td>False</td>\n",
       "      <td>False</td>\n",
       "      <td>False</td>\n",
       "    </tr>\n",
       "    <tr>\n",
       "      <th>2</th>\n",
       "      <td>0</td>\n",
       "      <td>0</td>\n",
       "      <td>1.0</td>\n",
       "      <td>2006.0</td>\n",
       "      <td>0.0</td>\n",
       "      <td>0.0</td>\n",
       "      <td>0.0</td>\n",
       "      <td>0.0</td>\n",
       "      <td>0.0</td>\n",
       "      <td>0.0</td>\n",
       "      <td>...</td>\n",
       "      <td>False</td>\n",
       "      <td>False</td>\n",
       "      <td>False</td>\n",
       "      <td>False</td>\n",
       "      <td>False</td>\n",
       "      <td>False</td>\n",
       "      <td>False</td>\n",
       "      <td>False</td>\n",
       "      <td>False</td>\n",
       "      <td>False</td>\n",
       "    </tr>\n",
       "    <tr>\n",
       "      <th>3</th>\n",
       "      <td>18950000</td>\n",
       "      <td>0</td>\n",
       "      <td>5.0</td>\n",
       "      <td>2008.0</td>\n",
       "      <td>0.0</td>\n",
       "      <td>15950000.0</td>\n",
       "      <td>0.0</td>\n",
       "      <td>0.0</td>\n",
       "      <td>0.0</td>\n",
       "      <td>3000000.0</td>\n",
       "      <td>...</td>\n",
       "      <td>False</td>\n",
       "      <td>False</td>\n",
       "      <td>False</td>\n",
       "      <td>False</td>\n",
       "      <td>False</td>\n",
       "      <td>False</td>\n",
       "      <td>False</td>\n",
       "      <td>False</td>\n",
       "      <td>False</td>\n",
       "      <td>False</td>\n",
       "    </tr>\n",
       "    <tr>\n",
       "      <th>4</th>\n",
       "      <td>160886</td>\n",
       "      <td>1</td>\n",
       "      <td>1.0</td>\n",
       "      <td>2003.0</td>\n",
       "      <td>0.0</td>\n",
       "      <td>160886.0</td>\n",
       "      <td>0.0</td>\n",
       "      <td>0.0</td>\n",
       "      <td>0.0</td>\n",
       "      <td>0.0</td>\n",
       "      <td>...</td>\n",
       "      <td>False</td>\n",
       "      <td>False</td>\n",
       "      <td>False</td>\n",
       "      <td>False</td>\n",
       "      <td>False</td>\n",
       "      <td>False</td>\n",
       "      <td>False</td>\n",
       "      <td>False</td>\n",
       "      <td>False</td>\n",
       "      <td>False</td>\n",
       "    </tr>\n",
       "  </tbody>\n",
       "</table>\n",
       "<p>5 rows × 9669 columns</p>\n",
       "</div>"
      ],
      "text/plain": [
       "    funding_total_usd   status  funding_rounds  founded_year     seed  \\\n",
       "0                40000       0             1.0        2011.0  40000.0   \n",
       "1               100000       0             1.0        2009.0      0.0   \n",
       "2                    0       0             1.0        2006.0      0.0   \n",
       "3             18950000       0             5.0        2008.0      0.0   \n",
       "4               160886       1             1.0        2003.0      0.0   \n",
       "\n",
       "      venture  equity_crowdfunding  undisclosed  convertible_note  \\\n",
       "0         0.0                  0.0          0.0               0.0   \n",
       "1         0.0                  0.0          0.0               0.0   \n",
       "2         0.0                  0.0          0.0               0.0   \n",
       "3  15950000.0                  0.0          0.0               0.0   \n",
       "4    160886.0                  0.0          0.0               0.0   \n",
       "\n",
       "   debt_financing  ...  \\\n",
       "0             0.0  ...   \n",
       "1             0.0  ...   \n",
       "2             0.0  ...   \n",
       "3       3000000.0  ...   \n",
       "4             0.0  ...   \n",
       "\n",
       "   category_list_|iPhone|Wireless|Android|Maps|Consumer Electronics|Gps|Reviews and Recommendations|Journalism|Video Streaming|Content|Parenting|Audio|Location Based Services|Social Media|Mobile|  \\\n",
       "0                                              False                                                                                                                                                  \n",
       "1                                              False                                                                                                                                                  \n",
       "2                                              False                                                                                                                                                  \n",
       "3                                              False                                                                                                                                                  \n",
       "4                                              False                                                                                                                                                  \n",
       "\n",
       "   category_list_|iPhone|Wireless|Audio|Email|SMS|Twitter Applications|Facebook Applications|Social Network Media|Software|Databases|Mobile|  \\\n",
       "0                                              False                                                                                           \n",
       "1                                              False                                                                                           \n",
       "2                                              False                                                                                           \n",
       "3                                              False                                                                                           \n",
       "4                                              False                                                                                           \n",
       "\n",
       "   category_list_|iPhone|iOS|Cloud Data Services|Startups|Technology|Mobile|  \\\n",
       "0                                              False                           \n",
       "1                                              False                           \n",
       "2                                              False                           \n",
       "3                                              False                           \n",
       "4                                              False                           \n",
       "\n",
       "   category_list_|iPhone|iPod Touch|Crowdsourcing|Local|Mobile|  \\\n",
       "0                                              False              \n",
       "1                                              False              \n",
       "2                                              False              \n",
       "3                                              False              \n",
       "4                                              False              \n",
       "\n",
       "   category_list_|iPhone|iPod Touch|Mobile|Marketplaces|Recycling|E-Commerce|Hardware + Software|  \\\n",
       "0                                              False                                                \n",
       "1                                              False                                                \n",
       "2                                              False                                                \n",
       "3                                              False                                                \n",
       "4                                              False                                                \n",
       "\n",
       "   category_list_|iPod Touch|iPad|iPhone|Android|App Marketing|App Discovery|Mobile|  \\\n",
       "0                                              False                                   \n",
       "1                                              False                                   \n",
       "2                                              False                                   \n",
       "3                                              False                                   \n",
       "4                                              False                                   \n",
       "\n",
       "   category_list_|iPod Touch|iPad|iPhone|Wireless|Hardware + Software|  \\\n",
       "0                                              False                     \n",
       "1                                              False                     \n",
       "2                                              False                     \n",
       "3                                              False                     \n",
       "4                                              False                     \n",
       "\n",
       "   category_list_|iPod Touch|iPhone|iPad|Entertainment|Peer-to-Peer|Consumer Electronics|Online Shopping|Video Games|Hardware|Marketplaces|Media|Retail|E-Commerce|  \\\n",
       "0                                              False                                                                                                                  \n",
       "1                                              False                                                                                                                  \n",
       "2                                              False                                                                                                                  \n",
       "3                                              False                                                                                                                  \n",
       "4                                              False                                                                                                                  \n",
       "\n",
       "   category_list_|mHealth|Enterprise Software|  \\\n",
       "0                                        False   \n",
       "1                                        False   \n",
       "2                                        False   \n",
       "3                                        False   \n",
       "4                                        False   \n",
       "\n",
       "   category_list_|mHealth|Health Care|  \n",
       "0                                False  \n",
       "1                                False  \n",
       "2                                False  \n",
       "3                                False  \n",
       "4                                False  \n",
       "\n",
       "[5 rows x 9669 columns]"
      ]
     },
     "execution_count": 351,
     "metadata": {},
     "output_type": "execute_result"
    }
   ],
   "source": [
    "df.head()"
   ]
  },
  {
   "cell_type": "code",
   "execution_count": 352,
   "metadata": {},
   "outputs": [
    {
     "name": "stdout",
     "output_type": "stream",
     "text": [
      "Index([], dtype='object')\n"
     ]
    }
   ],
   "source": [
    "from sklearn.preprocessing import OrdinalEncoder\n",
    "import json\n",
    "encoder=OrdinalEncoder()\n",
    "cat_col=df.select_dtypes('object').columns\n",
    "print(cat_col)\n",
    "cat_col\n",
    "df[cat_col]=encoder.fit_transform(df[cat_col])\n",
    "df[cat_col]\n",
    "category_mappings = {cat_col[i]: dict(zip(encoder.categories_[i], range(len(encoder.categories_[i])))) \n",
    "                    for i in range(len(encoder.categories_))}\n",
    "\n",
    "with open('ordinal_mappings.json', 'w') as json_file:\n",
    "    json.dump(category_mappings, json_file, indent=4)"
   ]
  },
  {
   "cell_type": "code",
   "execution_count": 353,
   "metadata": {},
   "outputs": [
    {
     "data": {
      "text/plain": [
       "['scaler.pkl']"
      ]
     },
     "execution_count": 353,
     "metadata": {},
     "output_type": "execute_result"
    }
   ],
   "source": [
    "from sklearn.preprocessing import StandardScaler\n",
    "import joblib\n",
    "sc=StandardScaler()\n",
    "col=[' funding_total_usd ','seed','venture','debt_financing']\n",
    "df[col]=sc.fit_transform(df[col])\n",
    "joblib.dump(sc,\"scaler.pkl\")"
   ]
  },
  {
   "cell_type": "code",
   "execution_count": 354,
   "metadata": {},
   "outputs": [],
   "source": [
    "x = df.drop(columns=['status']) \n",
    "y = df['status'] "
   ]
  },
  {
   "cell_type": "code",
   "execution_count": 355,
   "metadata": {},
   "outputs": [
    {
     "data": {
      "text/plain": [
       "status\n",
       "0    1190\n",
       "1    1190\n",
       "Name: count, dtype: int64"
      ]
     },
     "execution_count": 355,
     "metadata": {},
     "output_type": "execute_result"
    }
   ],
   "source": [
    "y.value_counts()"
   ]
  },
  {
   "cell_type": "code",
   "execution_count": 356,
   "metadata": {},
   "outputs": [],
   "source": [
    "from sklearn.model_selection import train_test_split\n",
    "\n",
    "x_train, x_test, y_train, y_test = train_test_split(x, y, test_size=0.2, random_state=42)\n"
   ]
  },
  {
   "cell_type": "code",
   "execution_count": 357,
   "metadata": {},
   "outputs": [
    {
     "name": "stderr",
     "output_type": "stream",
     "text": [
      "d:\\Users\\conne\\AppData\\Local\\Programs\\Python\\Python311\\Lib\\site-packages\\keras\\src\\layers\\core\\dense.py:88: UserWarning: Do not pass an `input_shape`/`input_dim` argument to a layer. When using Sequential models, prefer using an `Input(shape)` object as the first layer in the model instead.\n",
      "  super().__init__(activity_regularizer=activity_regularizer, **kwargs)\n"
     ]
    }
   ],
   "source": [
    "import tensorflow as tf\n",
    "model=tf.keras.models.Sequential()\n",
    "model.add(tf.keras.layers.Dense(units=256,activation='relu', input_shape=(x.shape[1],)))\n",
    "model.add(tf.keras.layers.Dense(units=128,activation='relu'))\n",
    "model.add(tf.keras.layers.Dense(units=64,activation='relu'))\n",
    "model.add(tf.keras.layers.Dense(units=32,activation='relu'))\n",
    "model.add(tf.keras.layers.Dense(units=16,activation='relu'))\n",
    "model.add(tf.keras.layers.Dense(units=8,activation='relu'))\n",
    "model.add(tf.keras.layers.Dense(units=1,activation='sigmoid'))\n"
   ]
  },
  {
   "cell_type": "code",
   "execution_count": null,
   "metadata": {},
   "outputs": [],
   "source": [
    "model.compile(optimizer='Adam',loss='binary_crossentropy',metrics=['accuracy'])\n",
    "model.fit(x,y,epochs=150,batch_size=16)"
   ]
  },
  {
   "cell_type": "code",
   "execution_count": null,
   "metadata": {},
   "outputs": [],
   "source": [
    "import joblib\n",
    "joblib.dump(model,\"startup_analyser_model.pkl\")"
   ]
  }
 ],
 "metadata": {
  "kernelspec": {
   "display_name": "Python 3",
   "language": "python",
   "name": "python3"
  },
  "language_info": {
   "codemirror_mode": {
    "name": "ipython",
    "version": 3
   },
   "file_extension": ".py",
   "mimetype": "text/x-python",
   "name": "python",
   "nbconvert_exporter": "python",
   "pygments_lexer": "ipython3",
   "version": "3.11.4"
  }
 },
 "nbformat": 4,
 "nbformat_minor": 2
}
